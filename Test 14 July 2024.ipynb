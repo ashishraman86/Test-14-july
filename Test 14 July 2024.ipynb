{
 "cells": [
  {
   "cell_type": "markdown",
   "id": "7b2a79c8-a5d5-46f7-a4a7-1e84867f5a0b",
   "metadata": {},
   "source": [
    "## Answer 4"
   ]
  },
  {
   "cell_type": "code",
   "execution_count": 2,
   "id": "d7a4e8ca-4d6b-4031-878d-4a9b57f5fae8",
   "metadata": {},
   "outputs": [],
   "source": [
    "set1={10,20,30,40,50}"
   ]
  },
  {
   "cell_type": "code",
   "execution_count": 3,
   "id": "6698be58-fcca-473d-bd15-0c44c8659768",
   "metadata": {},
   "outputs": [],
   "source": [
    "set2={30,40,50,60,70}"
   ]
  },
  {
   "cell_type": "code",
   "execution_count": 7,
   "id": "b13b708d-e66e-47d1-a6c6-c613148f9e19",
   "metadata": {},
   "outputs": [
    {
     "name": "stdout",
     "output_type": "stream",
     "text": [
      "{40, 50, 30}\n"
     ]
    }
   ],
   "source": [
    "identical_items=set1.intersection(set2)\n",
    "print(identical_items)"
   ]
  },
  {
   "cell_type": "markdown",
   "id": "9cc94998-eba7-456e-b03e-0a4daf185479",
   "metadata": {},
   "source": [
    "## Answer3"
   ]
  },
  {
   "cell_type": "code",
   "execution_count": 9,
   "id": "3fec05a4-beff-4cd4-baef-2acea0d4250c",
   "metadata": {},
   "outputs": [],
   "source": [
    "sample_set={\"Surya\",\"Kapil\",\"MSD\"}"
   ]
  },
  {
   "cell_type": "code",
   "execution_count": 10,
   "id": "a5bcdab1-6532-4083-ace7-5ba2b1c26fee",
   "metadata": {},
   "outputs": [],
   "source": [
    "sample_list={\"Sachin\",\"Siraj\",\"Sehwag\"}"
   ]
  },
  {
   "cell_type": "code",
   "execution_count": 12,
   "id": "ede987b8-2ae3-49d2-b153-d5b899856d39",
   "metadata": {},
   "outputs": [],
   "source": [
    "sample_set.update(sample_list)"
   ]
  },
  {
   "cell_type": "code",
   "execution_count": 15,
   "id": "1a4807d9-7fc0-4e9e-a6cb-a6d56138a2a3",
   "metadata": {},
   "outputs": [
    {
     "name": "stdout",
     "output_type": "stream",
     "text": [
      "{'Siraj', 'Surya', 'MSD', 'Sehwag', 'Sachin', 'Kapil'}\n"
     ]
    }
   ],
   "source": [
    "print(sample_set)"
   ]
  },
  {
   "cell_type": "markdown",
   "id": "ff18c89e-76a9-47b9-b0a1-2579e7c29214",
   "metadata": {},
   "source": [
    "## Answer 6\n"
   ]
  },
  {
   "cell_type": "code",
   "execution_count": 24,
   "id": "88db852a-0bc4-49cb-8a21-fae4ae0ac770",
   "metadata": {},
   "outputs": [
    {
     "name": "stdout",
     "output_type": "stream",
     "text": [
      "[10, 20, [300, 400, [5000, 6000, 7000], 500], 30, 40]\n"
     ]
    }
   ],
   "source": [
    "list1=[10,20,[300,400,[5000,6000],500],30,40]\n",
    "list1[2][2].append(7000)\n",
    "print(list1)"
   ]
  },
  {
   "cell_type": "markdown",
   "id": "f1e35c34-c72c-4d34-82f7-44bc60f1184d",
   "metadata": {},
   "source": [
    "## Answer 5"
   ]
  },
  {
   "cell_type": "code",
   "execution_count": 25,
   "id": "3044a61f-2e71-4ba9-9453-a3c48e75839b",
   "metadata": {},
   "outputs": [],
   "source": [
    "numbers=[1,2,3,4,5,6,7]"
   ]
  },
  {
   "cell_type": "code",
   "execution_count": 26,
   "id": "6c594645-f516-4c93-b831-08814e00e4a5",
   "metadata": {},
   "outputs": [
    {
     "name": "stdout",
     "output_type": "stream",
     "text": [
      "[1, 4, 9, 16, 25, 36, 49]\n"
     ]
    }
   ],
   "source": [
    "res = []\n",
    "for i in numbers:\n",
    "    res.append(i * i)\n",
    "print(res)"
   ]
  },
  {
   "cell_type": "code",
   "execution_count": null,
   "id": "5053f034-9611-4e81-988f-179df74881af",
   "metadata": {},
   "outputs": [],
   "source": []
  }
 ],
 "metadata": {
  "kernelspec": {
   "display_name": "Python 3 (ipykernel)",
   "language": "python",
   "name": "python3"
  },
  "language_info": {
   "codemirror_mode": {
    "name": "ipython",
    "version": 3
   },
   "file_extension": ".py",
   "mimetype": "text/x-python",
   "name": "python",
   "nbconvert_exporter": "python",
   "pygments_lexer": "ipython3",
   "version": "3.11.7"
  }
 },
 "nbformat": 4,
 "nbformat_minor": 5
}
